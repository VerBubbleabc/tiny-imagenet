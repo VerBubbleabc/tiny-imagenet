{
 "cells": [
  {
   "cell_type": "markdown",
   "metadata": {},
   "source": [
    "## DataSet"
   ]
  },
  {
   "cell_type": "code",
   "execution_count": 2,
   "metadata": {},
   "outputs": [],
   "source": [
    "import torch\n",
    "import torch.nn as nn\n",
    "import torch.optim as optim\n",
    "from torch.utils.data.dataset import Dataset\n",
    "from torch.utils.data.dataloader import DataLoader\n",
    "from torchvision import transforms\n",
    "from glob import glob\n",
    "import os\n",
    "from sklearn.model_selection import train_test_split\n",
    "from sklearn.preprocessing import OneHotEncoder, LabelEncoder\n",
    "import itertools\n",
    "import numpy as np\n",
    "from PIL import Image\n",
    "T = torch.Tensor\n",
    "rand_m = np.random.random"
   ]
  },
  {
   "cell_type": "code",
   "execution_count": 3,
   "metadata": {},
   "outputs": [],
   "source": [
    "from data import Tiny_imagenet_dataset"
   ]
  },
  {
   "cell_type": "code",
   "execution_count": 4,
   "metadata": {},
   "outputs": [],
   "source": [
    "tt = Tiny_imagenet_dataset(test_mode=True)"
   ]
  },
  {
   "cell_type": "code",
   "execution_count": 16,
   "metadata": {},
   "outputs": [
    {
     "data": {
      "text/plain": [
       "'n07873807'"
      ]
     },
     "execution_count": 16,
     "metadata": {},
     "output_type": "execute_result"
    }
   ],
   "source": [
    "tt.image_paths[0].split('_')[0].split('/')[-1]"
   ]
  },
  {
   "cell_type": "code",
   "execution_count": 17,
   "metadata": {},
   "outputs": [],
   "source": [
    "a = tt.ohe.transform(np.array(tt.image_paths[0].split('_')[0].split('/')[-1]).reshape(1, -1))"
   ]
  },
  {
   "cell_type": "code",
   "execution_count": 18,
   "metadata": {},
   "outputs": [
    {
     "data": {
      "text/plain": [
       "array([['n07873807']], dtype='<U9')"
      ]
     },
     "execution_count": 18,
     "metadata": {},
     "output_type": "execute_result"
    }
   ],
   "source": [
    "tt.ohe.inverse_transform(a)"
   ]
  },
  {
   "cell_type": "code",
   "execution_count": 4,
   "metadata": {},
   "outputs": [],
   "source": [
    "train_loader = DataLoader(tt, batch_size=32, shuffle=True)"
   ]
  },
  {
   "cell_type": "code",
   "execution_count": 5,
   "metadata": {},
   "outputs": [],
   "source": [
    "for x, y in train_loader:\n",
    "    break"
   ]
  },
  {
   "cell_type": "code",
   "execution_count": 6,
   "metadata": {},
   "outputs": [
    {
     "data": {
      "text/plain": [
       "(tensor([[[ 1.0502,  1.0331,  1.0502,  ...,  0.9132,  0.8961,  0.8961],\n",
       "          [ 1.0502,  1.0331,  1.0502,  ...,  0.9132,  0.8961,  0.8961],\n",
       "          [ 1.0673,  1.0673,  1.0502,  ...,  0.9132,  0.8961,  0.9303],\n",
       "          ...,\n",
       "          [ 0.5878,  0.5878,  0.5707,  ...,  0.3481,  0.3652,  0.3481],\n",
       "          [ 0.5536,  0.5364,  0.5193,  ...,  0.3823,  0.3823,  0.3652],\n",
       "          [ 0.5707,  0.5707,  0.5536,  ...,  0.3481,  0.3481,  0.3138]],\n",
       " \n",
       "         [[ 1.5007,  1.4482,  1.4132,  ...,  1.3081,  1.2906,  1.2906],\n",
       "          [ 1.5007,  1.4657,  1.4132,  ...,  1.2906,  1.2906,  1.2906],\n",
       "          [ 1.4832,  1.4482,  1.4132,  ...,  1.2906,  1.2906,  1.2731],\n",
       "          ...,\n",
       "          [ 0.6779,  0.6779,  0.6604,  ...,  0.4853,  0.5028,  0.5028],\n",
       "          [ 0.6779,  0.6604,  0.6429,  ...,  0.5203,  0.5203,  0.5203],\n",
       "          [ 0.7304,  0.6954,  0.6779,  ...,  0.4853,  0.4853,  0.4678]],\n",
       " \n",
       "         [[ 2.0648,  1.9951,  1.9080,  ...,  1.5768,  1.5594,  1.5594],\n",
       "          [ 2.0300,  1.9603,  1.9080,  ...,  1.6117,  1.5594,  1.5594],\n",
       "          [ 2.0300,  1.9428,  1.8731,  ...,  1.6117,  1.5594,  1.5594],\n",
       "          ...,\n",
       "          [ 0.8099,  0.8099,  0.7925,  ...,  0.7402,  0.7576,  0.7576],\n",
       "          [ 0.8099,  0.7925,  0.7751,  ...,  0.7751,  0.7751,  0.7751],\n",
       "          [ 0.8448,  0.8274,  0.8099,  ...,  0.7402,  0.7402,  0.7228]]]),\n",
       " tensor([161, 193,  24, 174, 167,  21, 136,  30, 120, 159,  43, 145, 110, 194,\n",
       "         111, 125,  58,   7, 105,  50, 134,  19,  63,  45, 122,   0, 104, 143,\n",
       "         185,  83,  75, 149]))"
      ]
     },
     "execution_count": 6,
     "metadata": {},
     "output_type": "execute_result"
    }
   ],
   "source": [
    "x[0], y"
   ]
  },
  {
   "cell_type": "markdown",
   "metadata": {},
   "source": [
    "## define model and training loop\n"
   ]
  },
  {
   "cell_type": "code",
   "execution_count": 7,
   "metadata": {},
   "outputs": [],
   "source": [
    "from torchvision import models"
   ]
  },
  {
   "cell_type": "code",
   "execution_count": 8,
   "metadata": {},
   "outputs": [
    {
     "data": {
      "text/plain": [
       "True"
      ]
     },
     "execution_count": 8,
     "metadata": {},
     "output_type": "execute_result"
    }
   ],
   "source": [
    "class r_net(nn.Module):\n",
    "    def __init__(self):\n",
    "        super(r_net, self).__init__()\n",
    "        \n",
    "        self.resnet = models.resnet34(pretrained=True)\n",
    "        \n",
    "        self.avgp = nn.AdaptiveAvgPool2d(1)\n",
    "        self.final_conv = nn.Conv2d(512, 200, 1)\n",
    "        \n",
    "    def forward(self, x):\n",
    "        x = self.resnet.conv1(x)\n",
    "        x = self.resnet.bn1(x)\n",
    "        x = self.resnet.relu(x)\n",
    "        x = self.resnet.maxpool(x)\n",
    "        x = self.resnet.layer1(x)\n",
    "        x = self.resnet.layer2(x)\n",
    "        x = self.resnet.layer3(x)\n",
    "        x = self.resnet.layer4(x)\n",
    "        x = self.avgp(x)\n",
    "        x = self.final_conv(x)\n",
    "        x = x.view(x.shape[0], -1)\n",
    "        return x\n",
    "\n",
    "r = r_net().cuda()\n",
    "r.training"
   ]
  },
  {
   "cell_type": "code",
   "execution_count": 9,
   "metadata": {},
   "outputs": [
    {
     "data": {
      "text/plain": [
       "torch.Size([32, 200])"
      ]
     },
     "execution_count": 9,
     "metadata": {},
     "output_type": "execute_result"
    }
   ],
   "source": [
    "r(torch.Tensor(np.random.random((32, 3, 64, 64))).cuda()).shape"
   ]
  },
  {
   "cell_type": "code",
   "execution_count": 10,
   "metadata": {},
   "outputs": [],
   "source": [
    "criterion = nn.CrossEntropyLoss()\n",
    "optimizer = optim.Adam(r.parameters(), lr=0.1)"
   ]
  },
  {
   "cell_type": "code",
   "execution_count": 11,
   "metadata": {},
   "outputs": [
    {
     "name": "stdout",
     "output_type": "stream",
     "text": [
      "-- ITERATION: 0\n",
      "0.11201981544494628\n",
      "0.0\n",
      "-- ITERATION: 5\n",
      "3.004381675720215\n",
      "0.0\n",
      "-- ITERATION: 0\n",
      "0.2782748794555664\n",
      "0.0\n",
      "-- ITERATION: 5\n",
      "0.7597996997833252\n",
      "0.0\n",
      "-- ITERATION: 0\n",
      "0.11827223777770995\n",
      "0.0\n",
      "-- ITERATION: 5\n",
      "0.5775546073913574\n",
      "0.0\n",
      "-- ITERATION: 0\n",
      "0.10474189758300781\n",
      "0.0\n",
      "-- ITERATION: 5\n",
      "0.5350306892395019\n",
      "0.0\n",
      "-- ITERATION: 0\n",
      "0.10830462455749512\n",
      "0.0\n",
      "-- ITERATION: 5\n",
      "0.5368499183654785\n",
      "0.0\n",
      "-- ITERATION: 0\n",
      "0.10793811798095704\n",
      "0.03125\n",
      "-- ITERATION: 5\n",
      "0.5434126281738281\n",
      "0.0\n",
      "-- ITERATION: 0\n",
      "0.10196602821350098\n",
      "0.03125\n",
      "-- ITERATION: 5\n",
      "0.537799425125122\n",
      "0.0\n",
      "-- ITERATION: 0\n",
      "0.10878575325012207\n",
      "0.0\n",
      "-- ITERATION: 5\n",
      "0.5317205429077149\n",
      "0.0\n",
      "-- ITERATION: 0\n",
      "0.10826654434204101\n",
      "0.03125\n",
      "-- ITERATION: 5\n",
      "0.5365390777587891\n",
      "0.0\n",
      "-- ITERATION: 0\n",
      "0.10720134735107421\n",
      "0.0\n",
      "-- ITERATION: 5\n",
      "0.5202382659912109\n",
      "0.03125\n",
      "-- ITERATION: 0\n",
      "0.10623207092285156\n",
      "0.0\n",
      "-- ITERATION: 5\n",
      "0.5271868801116943\n",
      "0.0\n",
      "-- ITERATION: 0\n",
      "0.10091756820678711\n",
      "0.0\n",
      "-- ITERATION: 5\n",
      "0.5146277523040772\n",
      "0.0\n",
      "-- ITERATION: 0\n",
      "0.0989979362487793\n",
      "0.0\n",
      "-- ITERATION: 5\n",
      "0.5145460033416748\n",
      "0.0\n",
      "-- ITERATION: 0\n",
      "0.09755520820617676\n",
      "0.0\n",
      "-- ITERATION: 5\n",
      "0.5030762004852295\n",
      "0.0\n",
      "-- ITERATION: 0\n",
      "0.09728705406188964\n",
      "0.0\n",
      "-- ITERATION: 5\n",
      "0.49836116790771484\n",
      "0.0\n",
      "-- ITERATION: 0\n",
      "0.09784266471862793\n",
      "0.03125\n",
      "-- ITERATION: 5\n",
      "0.5023844909667968\n",
      "0.0\n",
      "-- ITERATION: 0\n",
      "0.09519368171691894\n",
      "0.03125\n",
      "-- ITERATION: 5\n",
      "0.49692315101623535\n",
      "0.0\n",
      "-- ITERATION: 0\n",
      "0.09551055908203125\n",
      "0.03125\n",
      "-- ITERATION: 5\n",
      "0.49493324279785156\n",
      "0.03125\n",
      "-- ITERATION: 0\n",
      "0.09228265762329102\n",
      "0.03125\n",
      "-- ITERATION: 5\n",
      "0.4843795871734619\n",
      "0.0\n",
      "-- ITERATION: 0\n",
      "0.0964805793762207\n",
      "0.03125\n",
      "-- ITERATION: 5\n",
      "0.49481877326965334\n",
      "0.03125\n"
     ]
    }
   ],
   "source": [
    "for epoch in range(20):\n",
    "    running_loss = 0.0\n",
    "    for i, data in enumerate(train_loader, 0):\n",
    "        if i % 5 == 0: \n",
    "            print(\"-- ITERATION:\", i)\n",
    "        input, target = data\n",
    "\n",
    "        input_var = input.cuda()\n",
    "        target_var = target.cuda()\n",
    "        \n",
    "        optimizer.zero_grad()\n",
    "        \n",
    "        output = r(input_var)\n",
    "        \n",
    "        pred = output\n",
    "        pred = torch.max(pred, 1)[1]\n",
    "        \n",
    "        \n",
    "        loss = criterion(output, target_var)\n",
    "        \n",
    "        # computer gradient + sgd step\n",
    "        loss.backward()\n",
    "        \n",
    "        #for param in r.parameters():\n",
    "        #    print(param.grad.data.sum())\n",
    "        \n",
    "        optimizer.step()\n",
    "\n",
    "        # print progress\n",
    "        running_loss += loss.item()\n",
    "            \n",
    "            \n",
    "        if i % 5 == 0:\n",
    "            print(running_loss / 50)\n",
    "            running_loss = 0.\n",
    "            pred = output\n",
    "            pred = torch.max(pred, 1)[1]\n",
    "            acc = (pred == target_var).float().mean()\n",
    "            print(acc.item())"
   ]
  },
  {
   "cell_type": "code",
   "execution_count": null,
   "metadata": {},
   "outputs": [],
   "source": []
  }
 ],
 "metadata": {
  "kernelspec": {
   "display_name": "Python 3",
   "language": "python",
   "name": "python3"
  },
  "language_info": {
   "codemirror_mode": {
    "name": "ipython",
    "version": 3
   },
   "file_extension": ".py",
   "mimetype": "text/x-python",
   "name": "python",
   "nbconvert_exporter": "python",
   "pygments_lexer": "ipython3",
   "version": "3.6.7"
  }
 },
 "nbformat": 4,
 "nbformat_minor": 2
}
