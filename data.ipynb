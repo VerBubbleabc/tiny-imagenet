{
 "cells": [
  {
   "cell_type": "markdown",
   "metadata": {},
   "source": [
    "## DataSet"
   ]
  },
  {
   "cell_type": "code",
   "execution_count": 1,
   "metadata": {},
   "outputs": [],
   "source": [
    "import torch\n",
    "import torch.nn as nn\n",
    "import torch.optim as optim\n",
    "from torch.utils.data.dataset import Dataset\n",
    "from torch.utils.data.dataloader import DataLoader\n",
    "from torchvision import transforms\n",
    "from glob import glob\n",
    "import os\n",
    "from sklearn.model_selection import train_test_split\n",
    "from sklearn.preprocessing import OneHotEncoder, LabelEncoder\n",
    "import itertools\n",
    "import numpy as np\n",
    "from PIL import Image\n",
    "T = torch.Tensor\n",
    "rand_m = np.random.random"
   ]
  },
  {
   "cell_type": "code",
   "execution_count": 2,
   "metadata": {},
   "outputs": [],
   "source": [
    "from data import Tiny_imagenet_dataset"
   ]
  },
  {
   "cell_type": "code",
   "execution_count": 3,
   "metadata": {},
   "outputs": [],
   "source": [
    "tt = Tiny_imagenet_dataset()"
   ]
  },
  {
   "cell_type": "code",
   "execution_count": 4,
   "metadata": {},
   "outputs": [],
   "source": [
    "train_loader = DataLoader(tt, batch_size=100, shuffle=True)"
   ]
  },
  {
   "cell_type": "code",
   "execution_count": 5,
   "metadata": {},
   "outputs": [],
   "source": [
    "for x, y in train_loader:\n",
    "    break"
   ]
  },
  {
   "cell_type": "code",
   "execution_count": 6,
   "metadata": {},
   "outputs": [
    {
     "data": {
      "text/plain": [
       "tensor([ 49,  29,  87,  22, 112, 163,  28, 191,  84,  66,  11,  18,  75, 127,\n",
       "         56, 156,  69, 110, 147, 184,  73, 103, 159, 163,   1, 167,  90,  14,\n",
       "        125,  51,  69,  26, 100, 187, 136,   5,  44,  77,  97,  80, 190,  89,\n",
       "         45, 128,  33,  84,  56,  44,  18, 187,  59,  16,  53, 194, 172, 107,\n",
       "         65,  93,   9,  97, 188, 128,  26,  11, 180, 109,  41, 153,  85, 176,\n",
       "        181, 137,  78,  27,   5, 128,  39, 162, 164, 160,  77,  26, 172,  92,\n",
       "        115,  41, 103,  82, 153,  97,  42, 114, 121, 114,  65,  27, 191, 189,\n",
       "          0, 133])"
      ]
     },
     "execution_count": 6,
     "metadata": {},
     "output_type": "execute_result"
    }
   ],
   "source": [
    "y"
   ]
  },
  {
   "cell_type": "code",
   "execution_count": 7,
   "metadata": {},
   "outputs": [],
   "source": [
    "from torchvision import models"
   ]
  },
  {
   "cell_type": "code",
   "execution_count": 8,
   "metadata": {},
   "outputs": [],
   "source": [
    "class r_net(nn.Module):\n",
    "    def __init__(self):\n",
    "        super(r_net, self).__init__()\n",
    "        \n",
    "        self.resnet = models.resnet34(pretrained=True)\n",
    "        \n",
    "        self.avgp = nn.AdaptiveAvgPool2d(1)\n",
    "        self.final_conv = nn.Conv2d(512, 200, 1)\n",
    "        \n",
    "    def forward(self, x):\n",
    "        x = self.resnet.conv1(x)\n",
    "        x = self.resnet.bn1(x)\n",
    "        x = self.resnet.relu(x)\n",
    "        x = self.resnet.maxpool(x)\n",
    "        x = self.resnet.layer1(x)\n",
    "        x = self.resnet.layer2(x)\n",
    "        x = self.resnet.layer3(x)\n",
    "        x = self.resnet.layer4(x)\n",
    "        x = self.avgp(x)\n",
    "        x = self.final_conv(x)\n",
    "        x = x.view(x.shape[0], -1)\n",
    "        return x"
   ]
  },
  {
   "cell_type": "code",
   "execution_count": 9,
   "metadata": {},
   "outputs": [],
   "source": [
    "r = r_net().cuda()"
   ]
  },
  {
   "cell_type": "code",
   "execution_count": 10,
   "metadata": {},
   "outputs": [
    {
     "data": {
      "text/plain": [
       "torch.Size([32, 200])"
      ]
     },
     "execution_count": 10,
     "metadata": {},
     "output_type": "execute_result"
    }
   ],
   "source": [
    "r(torch.Tensor(np.random.random((32, 3, 64, 64))).cuda()).shape"
   ]
  },
  {
   "cell_type": "code",
   "execution_count": 11,
   "metadata": {},
   "outputs": [],
   "source": [
    "criterion = nn.CrossEntropyLoss()\n",
    "optimizer = optim.Adam(r.parameters())"
   ]
  },
  {
   "cell_type": "code",
   "execution_count": null,
   "metadata": {},
   "outputs": [
    {
     "name": "stdout",
     "output_type": "stream",
     "text": [
      "-- ITERATION: 49\n",
      "4.903546695709228\n",
      "-- ITERATION: 249\n",
      "15.153682508468627\n"
     ]
    }
   ],
   "source": [
    "for epoch in range(20):\n",
    "    running_loss = 0.0\n",
    "    for i, data in enumerate(train_loader, 0):\n",
    "        if i % 200 == 49: \n",
    "            print(\"-- ITERATION:\", i)\n",
    "        input, target = data\n",
    "\n",
    "        # wrap input + target into variables\n",
    "        input_var = input.cuda()\n",
    "        target_var = target.cuda()\n",
    "        \n",
    "        #print(target_var)\n",
    "            # compute output\n",
    "        output = r(input_var)\n",
    "        #print(output.shape)\n",
    "        loss = criterion(output, target_var)\n",
    "        \n",
    "        # computer gradient + sgd step\n",
    "        optimizer.zero_grad()\n",
    "        loss.backward()\n",
    "        optimizer.step()\n",
    "\n",
    "        # print progress\n",
    "        running_loss += loss.item()\n",
    "            \n",
    "            \n",
    "        if i % 200 == 49:  # print every 2k mini-batches\n",
    "            print(running_loss / 50)\n",
    "            running_loss = 0."
   ]
  },
  {
   "cell_type": "code",
   "execution_count": null,
   "metadata": {},
   "outputs": [],
   "source": []
  }
 ],
 "metadata": {
  "kernelspec": {
   "display_name": "Python 3",
   "language": "python",
   "name": "python3"
  },
  "language_info": {
   "codemirror_mode": {
    "name": "ipython",
    "version": 3
   },
   "file_extension": ".py",
   "mimetype": "text/x-python",
   "name": "python",
   "nbconvert_exporter": "python",
   "pygments_lexer": "ipython3",
   "version": "3.6.7"
  }
 },
 "nbformat": 4,
 "nbformat_minor": 2
}
