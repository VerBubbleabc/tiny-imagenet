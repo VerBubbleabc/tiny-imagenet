{
 "cells": [
  {
   "cell_type": "markdown",
   "metadata": {},
   "source": [
    "## DataSet"
   ]
  },
  {
   "cell_type": "code",
   "execution_count": 1,
   "metadata": {},
   "outputs": [],
   "source": [
    "import torch\n",
    "import torch.nn as nn\n",
    "import torch.optim as optim\n",
    "from torch.utils.data.dataset import Dataset\n",
    "from torch.utils.data.dataloader import DataLoader\n",
    "from torchvision import transforms\n",
    "from glob import glob\n",
    "import os\n",
    "from sklearn.model_selection import train_test_split\n",
    "from sklearn.preprocessing import OneHotEncoder, LabelEncoder\n",
    "import itertools\n",
    "import numpy as np\n",
    "from PIL import Image\n",
    "T = torch.Tensor\n",
    "rand_m = np.random.random"
   ]
  },
  {
   "cell_type": "code",
   "execution_count": 2,
   "metadata": {},
   "outputs": [],
   "source": [
    "from data import Tiny_imagenet_dataset"
   ]
  },
  {
   "cell_type": "code",
   "execution_count": 3,
   "metadata": {},
   "outputs": [],
   "source": [
    "tt = Tiny_imagenet_dataset()"
   ]
  },
  {
   "cell_type": "code",
   "execution_count": 4,
   "metadata": {},
   "outputs": [],
   "source": [
    "train_loader = DataLoader(tt, batch_size=32, shuffle=True)"
   ]
  },
  {
   "cell_type": "code",
   "execution_count": 5,
   "metadata": {},
   "outputs": [],
   "source": [
    "for x, y in train_loader:\n",
    "    break"
   ]
  },
  {
   "cell_type": "code",
   "execution_count": 6,
   "metadata": {},
   "outputs": [
    {
     "data": {
      "text/plain": [
       "(tensor([[[-0.6794,  0.5364, -1.2617,  ..., -1.0733, -1.3302, -1.4329],\n",
       "          [-1.0219, -0.9363, -1.0562,  ..., -0.9020, -1.1932, -1.2959],\n",
       "          [-0.6623, -0.6623, -0.0972,  ..., -1.1932, -1.3130, -1.2788],\n",
       "          ...,\n",
       "          [ 0.5022,  1.1015,  0.4508,  ..., -0.4054, -0.4739, -0.3027],\n",
       "          [ 2.0263,  0.2111,  1.6324,  ...,  0.2624,  0.3138,  0.0912],\n",
       "          [ 1.8550,  1.2385,  0.5193,  ...,  0.4166,  0.0912, -0.0287]],\n",
       " \n",
       "         [[-0.1625,  1.0805, -0.7577,  ..., -0.7752, -1.0378, -1.1429],\n",
       "          [-0.5476, -0.4601, -0.6001,  ..., -0.5651, -0.8627, -0.9678],\n",
       "          [-0.2850, -0.2850,  0.3102,  ..., -0.8627, -0.9853, -0.9503],\n",
       "          ...,\n",
       "          [ 0.1352,  0.7479,  0.1176,  ..., -0.6527, -0.7227, -0.5476],\n",
       "          [ 1.6583, -0.1625,  1.3256,  ...,  0.0301,  0.0826, -0.1450],\n",
       "          [ 1.4832,  0.8880,  0.1877,  ...,  0.1877, -0.1450, -0.2675]],\n",
       " \n",
       "         [[-0.0441,  1.1585, -0.6715,  ..., -0.8458, -1.1073, -1.2119],\n",
       "          [-0.4450, -0.3578, -0.5321,  ..., -0.6541, -0.9504, -1.0550],\n",
       "          [-0.1835, -0.1835,  0.3568,  ..., -0.9504, -1.0724, -1.0376],\n",
       "          ...,\n",
       "          [-0.2010,  0.4091, -0.1661,  ..., -0.9330, -1.0027, -0.8633],\n",
       "          [ 1.3328, -0.4624,  1.0365,  ..., -0.2184, -0.2010, -0.4275],\n",
       "          [ 1.1585,  0.5834, -0.0615,  ..., -0.0615, -0.3927, -0.5147]]]),\n",
       " tensor([ 28, 126, 177, 153,  19, 161,  23,  57,  79, 149, 108, 186, 132,  13,\n",
       "         159, 104, 135,  65, 151, 179,  94, 114, 181,  55,  36, 130,  52,   6,\n",
       "         191,  98,  84, 177]))"
      ]
     },
     "execution_count": 6,
     "metadata": {},
     "output_type": "execute_result"
    }
   ],
   "source": [
    "x[0], y"
   ]
  },
  {
   "cell_type": "markdown",
   "metadata": {},
   "source": [
    "## define model and training loop\n"
   ]
  },
  {
   "cell_type": "code",
   "execution_count": 7,
   "metadata": {},
   "outputs": [],
   "source": [
    "from torchvision import models"
   ]
  },
  {
   "cell_type": "code",
   "execution_count": 8,
   "metadata": {},
   "outputs": [
    {
     "data": {
      "text/plain": [
       "True"
      ]
     },
     "execution_count": 8,
     "metadata": {},
     "output_type": "execute_result"
    }
   ],
   "source": [
    "class r_net(nn.Module):\n",
    "    def __init__(self):\n",
    "        super(r_net, self).__init__()\n",
    "        \n",
    "        self.resnet = models.resnet34(pretrained=True)\n",
    "        \n",
    "        self.avgp = nn.AdaptiveAvgPool2d(1)\n",
    "        self.final_conv = nn.Conv2d(512, 200, 1)\n",
    "        \n",
    "    def forward(self, x):\n",
    "        x = self.resnet.conv1(x)\n",
    "        x = self.resnet.bn1(x)\n",
    "        x = self.resnet.relu(x)\n",
    "        x = self.resnet.maxpool(x)\n",
    "        x = self.resnet.layer1(x)\n",
    "        x = self.resnet.layer2(x)\n",
    "        x = self.resnet.layer3(x)\n",
    "        x = self.resnet.layer4(x)\n",
    "        x = self.avgp(x)\n",
    "        x = self.final_conv(x)\n",
    "        x = x.view(x.shape[0], -1)\n",
    "        return x\n",
    "\n",
    "r = r_net().cuda()\n",
    "r.training"
   ]
  },
  {
   "cell_type": "code",
   "execution_count": 9,
   "metadata": {},
   "outputs": [
    {
     "data": {
      "text/plain": [
       "torch.Size([32, 200])"
      ]
     },
     "execution_count": 9,
     "metadata": {},
     "output_type": "execute_result"
    }
   ],
   "source": [
    "r(torch.Tensor(np.random.random((32, 3, 64, 64))).cuda()).shape"
   ]
  },
  {
   "cell_type": "code",
   "execution_count": 10,
   "metadata": {},
   "outputs": [],
   "source": [
    "criterion = nn.CrossEntropyLoss()\n",
    "optimizer = optim.Adam(r.parameters())"
   ]
  },
  {
   "cell_type": "code",
   "execution_count": null,
   "metadata": {},
   "outputs": [
    {
     "name": "stdout",
     "output_type": "stream",
     "text": [
      "-- ITERATION: 0\n",
      "0.11802024841308593\n",
      "0.0\n"
     ]
    }
   ],
   "source": [
    "for epoch in range(20):\n",
    "    running_loss = 0.0\n",
    "    for i, data in enumerate(train_loader):\n",
    "        if i % 200 == 0: \n",
    "            print(\"-- ITERATION:\", i)\n",
    "        input, target = data\n",
    "\n",
    "        input_var = input.cuda()\n",
    "        target_var = target.cuda()\n",
    "        \n",
    "        optimizer.zero_grad()\n",
    "        \n",
    "        output = r(input_var)\n",
    "        \n",
    "        pred = output\n",
    "        pred = torch.max(pred, 1)[1]\n",
    "        \n",
    "        \n",
    "        loss = criterion(output, target_var)\n",
    "        \n",
    "        # computer gradient + sgd step\n",
    "        loss.backward()\n",
    "        \n",
    "        #for param in r.parameters():\n",
    "        #    print(param.grad.data.sum())\n",
    "        \n",
    "        optimizer.step()\n",
    "\n",
    "        # print progress\n",
    "        running_loss += loss.item()\n",
    "            \n",
    "            \n",
    "        if i % 200 == 0:\n",
    "            print(running_loss / 50)\n",
    "            running_loss = 0.\n",
    "            pred = output\n",
    "            pred = torch.max(pred, 1)[1]\n",
    "            acc = (pred == target_var).float().mean()\n",
    "            print(acc.item())"
   ]
  },
  {
   "cell_type": "code",
   "execution_count": null,
   "metadata": {},
   "outputs": [],
   "source": []
  }
 ],
 "metadata": {
  "kernelspec": {
   "display_name": "Python 3",
   "language": "python",
   "name": "python3"
  },
  "language_info": {
   "codemirror_mode": {
    "name": "ipython",
    "version": 3
   },
   "file_extension": ".py",
   "mimetype": "text/x-python",
   "name": "python",
   "nbconvert_exporter": "python",
   "pygments_lexer": "ipython3",
   "version": "3.6.7"
  }
 },
 "nbformat": 4,
 "nbformat_minor": 2
}
